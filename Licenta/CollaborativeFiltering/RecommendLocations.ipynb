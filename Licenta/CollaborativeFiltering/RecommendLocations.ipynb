{
 "cells": [
  {
   "cell_type": "code",
   "execution_count": 9,
   "id": "9a602b85",
   "metadata": {},
   "outputs": [],
   "source": [
    "from django_for_jupyter import init_django\n",
    "init_django(\"LicentaDjango\")\n",
    "\n",
    "import pandas as pd\n",
    "from scipy import sparse\n",
    "from sklearn.metrics.pairwise import cosine_similarity"
   ]
  },
  {
   "cell_type": "code",
   "execution_count": 14,
   "id": "37e0e7a2",
   "metadata": {},
   "outputs": [],
   "source": [
    "from Licenta.models import CustomUser, Location, Rating"
   ]
  },
  {
   "cell_type": "code",
   "execution_count": 15,
   "id": "9696ac55",
   "metadata": {},
   "outputs": [
    {
     "data": {
      "text/plain": [
       "<QuerySet [{'user': 1, 'location': 3, 'rating': 4}, {'user': 1, 'location': 4, 'rating': 5}, {'user': 1, 'location': 5, 'rating': 3}, {'user': 1, 'location': 7, 'rating': 2}, {'user': 1, 'location': 8, 'rating': 1}, {'user': 2, 'location': 3, 'rating': 5}, {'user': 2, 'location': 4, 'rating': 3}, {'user': 2, 'location': 5, 'rating': 3}, {'user': 2, 'location': 6, 'rating': 2}, {'user': 2, 'location': 7, 'rating': 2}, {'user': 3, 'location': 3, 'rating': 1}, {'user': 3, 'location': 6, 'rating': 4}, {'user': 3, 'location': 7, 'rating': 5}, {'user': 3, 'location': 8, 'rating': 4}, {'user': 4, 'location': 4, 'rating': 2}, {'user': 4, 'location': 5, 'rating': 1}, {'user': 4, 'location': 6, 'rating': 4}, {'user': 4, 'location': 8, 'rating': 3}, {'user': 5, 'location': 3, 'rating': 1}, {'user': 5, 'location': 5, 'rating': 2}, '...(remaining elements truncated)...']>"
      ]
     },
     "execution_count": 15,
     "metadata": {},
     "output_type": "execute_result"
    }
   ],
   "source": [
    "ratings = Rating.objects.all()\n",
    "rating_data = ratings.values(\"user\", \"location\", \"rating\")\n",
    "rating_data"
   ]
  },
  {
   "cell_type": "code",
   "execution_count": 147,
   "id": "3617dfb0",
   "metadata": {},
   "outputs": [
    {
     "data": {
      "text/html": [
       "<div>\n",
       "<style scoped>\n",
       "    .dataframe tbody tr th:only-of-type {\n",
       "        vertical-align: middle;\n",
       "    }\n",
       "\n",
       "    .dataframe tbody tr th {\n",
       "        vertical-align: top;\n",
       "    }\n",
       "\n",
       "    .dataframe thead th {\n",
       "        text-align: right;\n",
       "    }\n",
       "</style>\n",
       "<table border=\"1\" class=\"dataframe\">\n",
       "  <thead>\n",
       "    <tr style=\"text-align: right;\">\n",
       "      <th></th>\n",
       "      <th>3</th>\n",
       "      <th>4</th>\n",
       "      <th>5</th>\n",
       "      <th>6</th>\n",
       "      <th>7</th>\n",
       "      <th>8</th>\n",
       "      <th>9</th>\n",
       "    </tr>\n",
       "  </thead>\n",
       "  <tbody>\n",
       "    <tr>\n",
       "      <th>1</th>\n",
       "      <td>4</td>\n",
       "      <td>5</td>\n",
       "      <td>3</td>\n",
       "      <td>0</td>\n",
       "      <td>2</td>\n",
       "      <td>1</td>\n",
       "      <td>0</td>\n",
       "    </tr>\n",
       "    <tr>\n",
       "      <th>2</th>\n",
       "      <td>5</td>\n",
       "      <td>3</td>\n",
       "      <td>3</td>\n",
       "      <td>2</td>\n",
       "      <td>2</td>\n",
       "      <td>0</td>\n",
       "      <td>0</td>\n",
       "    </tr>\n",
       "    <tr>\n",
       "      <th>3</th>\n",
       "      <td>1</td>\n",
       "      <td>0</td>\n",
       "      <td>0</td>\n",
       "      <td>4</td>\n",
       "      <td>5</td>\n",
       "      <td>4</td>\n",
       "      <td>0</td>\n",
       "    </tr>\n",
       "    <tr>\n",
       "      <th>4</th>\n",
       "      <td>0</td>\n",
       "      <td>2</td>\n",
       "      <td>1</td>\n",
       "      <td>4</td>\n",
       "      <td>0</td>\n",
       "      <td>3</td>\n",
       "      <td>0</td>\n",
       "    </tr>\n",
       "    <tr>\n",
       "      <th>5</th>\n",
       "      <td>1</td>\n",
       "      <td>0</td>\n",
       "      <td>2</td>\n",
       "      <td>3</td>\n",
       "      <td>3</td>\n",
       "      <td>4</td>\n",
       "      <td>0</td>\n",
       "    </tr>\n",
       "  </tbody>\n",
       "</table>\n",
       "</div>"
      ],
      "text/plain": [
       "   3  4  5  6  7  8  9\n",
       "1  4  5  3  0  2  1  0\n",
       "2  5  3  3  2  2  0  0\n",
       "3  1  0  0  4  5  4  0\n",
       "4  0  2  1  4  0  3  0\n",
       "5  1  0  2  3  3  4  0"
      ]
     },
     "execution_count": 147,
     "metadata": {},
     "output_type": "execute_result"
    }
   ],
   "source": [
    "locations = Location.objects.all()\n",
    "users = CustomUser.objects.all()\n",
    "user_ids = list()\n",
    "location_ids = list()\n",
    "for item in users:\n",
    "    user_ids.append(item.id)\n",
    "for item in locations:\n",
    "    location_ids.append(item.id)\n",
    "    \n",
    "df = pd.DataFrame(index=user_ids, columns=location_ids)\n",
    "for user_id in user_ids:\n",
    "    for location_id in location_ids:\n",
    "        df.at[user_id, location_id] = getRating(user_id, location_id)\n",
    "df"
   ]
  },
  {
   "cell_type": "code",
   "execution_count": 146,
   "id": "d3a9fa16",
   "metadata": {},
   "outputs": [],
   "source": [
    "def getRating(user_id, location_id):\n",
    "    rating = Rating.objects.filter(user_id=user_id, location_id=location_id)\n",
    "    if not rating:\n",
    "        return 0\n",
    "    else:\n",
    "        return rating[0].rating"
   ]
  },
  {
   "cell_type": "code",
   "execution_count": 155,
   "id": "faff53d4",
   "metadata": {},
   "outputs": [
    {
     "data": {
      "text/html": [
       "<div>\n",
       "<style scoped>\n",
       "    .dataframe tbody tr th:only-of-type {\n",
       "        vertical-align: middle;\n",
       "    }\n",
       "\n",
       "    .dataframe tbody tr th {\n",
       "        vertical-align: top;\n",
       "    }\n",
       "\n",
       "    .dataframe thead th {\n",
       "        text-align: right;\n",
       "    }\n",
       "</style>\n",
       "<table border=\"1\" class=\"dataframe\">\n",
       "  <thead>\n",
       "    <tr style=\"text-align: right;\">\n",
       "      <th></th>\n",
       "      <th>3</th>\n",
       "      <th>4</th>\n",
       "      <th>5</th>\n",
       "      <th>6</th>\n",
       "      <th>7</th>\n",
       "      <th>8</th>\n",
       "      <th>9</th>\n",
       "    </tr>\n",
       "  </thead>\n",
       "  <tbody>\n",
       "    <tr>\n",
       "      <th>3</th>\n",
       "      <td>1.000000</td>\n",
       "      <td>0.614417</td>\n",
       "      <td>0.687154</td>\n",
       "      <td>-0.724218</td>\n",
       "      <td>-0.129584</td>\n",
       "      <td>-0.882525</td>\n",
       "      <td>-0.126322</td>\n",
       "    </tr>\n",
       "    <tr>\n",
       "      <th>4</th>\n",
       "      <td>0.614417</td>\n",
       "      <td>1.000000</td>\n",
       "      <td>0.612267</td>\n",
       "      <td>-0.567212</td>\n",
       "      <td>-0.679103</td>\n",
       "      <td>-0.701626</td>\n",
       "      <td>0.007631</td>\n",
       "    </tr>\n",
       "    <tr>\n",
       "      <th>5</th>\n",
       "      <td>0.687154</td>\n",
       "      <td>0.612267</td>\n",
       "      <td>1.000000</td>\n",
       "      <td>-0.673799</td>\n",
       "      <td>-0.553794</td>\n",
       "      <td>-0.671416</td>\n",
       "      <td>0.077395</td>\n",
       "    </tr>\n",
       "    <tr>\n",
       "      <th>6</th>\n",
       "      <td>-0.724218</td>\n",
       "      <td>-0.567212</td>\n",
       "      <td>-0.673799</td>\n",
       "      <td>1.000000</td>\n",
       "      <td>0.151838</td>\n",
       "      <td>0.806160</td>\n",
       "      <td>-0.381766</td>\n",
       "    </tr>\n",
       "    <tr>\n",
       "      <th>7</th>\n",
       "      <td>-0.129584</td>\n",
       "      <td>-0.679103</td>\n",
       "      <td>-0.553794</td>\n",
       "      <td>0.151838</td>\n",
       "      <td>1.000000</td>\n",
       "      <td>0.392775</td>\n",
       "      <td>-0.312973</td>\n",
       "    </tr>\n",
       "    <tr>\n",
       "      <th>8</th>\n",
       "      <td>-0.882525</td>\n",
       "      <td>-0.701626</td>\n",
       "      <td>-0.671416</td>\n",
       "      <td>0.806160</td>\n",
       "      <td>0.392775</td>\n",
       "      <td>1.000000</td>\n",
       "      <td>-0.313226</td>\n",
       "    </tr>\n",
       "    <tr>\n",
       "      <th>9</th>\n",
       "      <td>-0.126322</td>\n",
       "      <td>0.007631</td>\n",
       "      <td>0.077395</td>\n",
       "      <td>-0.381766</td>\n",
       "      <td>-0.312973</td>\n",
       "      <td>-0.313226</td>\n",
       "      <td>1.000000</td>\n",
       "    </tr>\n",
       "  </tbody>\n",
       "</table>\n",
       "</div>"
      ],
      "text/plain": [
       "          3         4         5         6         7         8         9\n",
       "3  1.000000  0.614417  0.687154 -0.724218 -0.129584 -0.882525 -0.126322\n",
       "4  0.614417  1.000000  0.612267 -0.567212 -0.679103 -0.701626  0.007631\n",
       "5  0.687154  0.612267  1.000000 -0.673799 -0.553794 -0.671416  0.077395\n",
       "6 -0.724218 -0.567212 -0.673799  1.000000  0.151838  0.806160 -0.381766\n",
       "7 -0.129584 -0.679103 -0.553794  0.151838  1.000000  0.392775 -0.312973\n",
       "8 -0.882525 -0.701626 -0.671416  0.806160  0.392775  1.000000 -0.313226\n",
       "9 -0.126322  0.007631  0.077395 -0.381766 -0.312973 -0.313226  1.000000"
      ]
     },
     "execution_count": 155,
     "metadata": {},
     "output_type": "execute_result"
    }
   ],
   "source": [
    "def standardize(row):\n",
    "    new_row = (row - row.mean())/(row.max()-row.min())\n",
    "    return new_row\n",
    "ratings_std = df.apply(standardize, axis=1)\n",
    "\n",
    "#we are taking the transpose since we want the similarity between items (cosine_similarity works on the rows but our items are on the columns)\n",
    "item_similarity = cosine_similarity(ratings_std.T) #we obtain the similarity matrix\n",
    "\n",
    "item_similarity_df = pd.DataFrame(item_similarity, index=df.columns, columns=df.columns)\n",
    "item_similarity_df"
   ]
  },
  {
   "cell_type": "code",
   "execution_count": 158,
   "id": "973ce0af",
   "metadata": {},
   "outputs": [
    {
     "name": "stdout",
     "output_type": "stream",
     "text": [
      "4    1.018655\n",
      "5    0.830692\n",
      "9    0.469460\n",
      "3    0.194376\n",
      "6   -0.227758\n",
      "8   -0.589163\n",
      "7   -1.500000\n",
      "Name: 7, dtype: float64\n"
     ]
    }
   ],
   "source": [
    "def get_recommended_locations(location_id, user_rating):\n",
    "    #we substract 2.5 so that when the rating is low (under 2.5), we make the score/similarity negative so that we do not recommend\n",
    "    #locations that are similar to this one\n",
    "    similar_score = item_similarity_df[location_id]*(user_rating-2.5)\n",
    "    similar_score = similar_score.sort_values(ascending=False) #from best to worst\n",
    "    return similar_score #similar score represents the percentage in which the movies should be recommended to us\n",
    "print(get_recommended_locations(7, 1))"
   ]
  },
  {
   "cell_type": "code",
   "execution_count": 180,
   "id": "5763ca89",
   "metadata": {},
   "outputs": [],
   "source": [
    "def get_recommendations(userID):\n",
    "    my_user = CustomUser.objects.get(id = userID)\n",
    "    ratings = Rating.objects.filter(user=my_user)\n",
    "    rating_list = list()\n",
    "    location_ids = list()\n",
    "    for item in ratings:\n",
    "        location_ids.append(item.location.id)\n",
    "        rating_list.append(item.rating)\n",
    "    my_list=list(zip(location_ids, rating_list))\n",
    "\n",
    "    recommended_locations = pd.DataFrame()\n",
    "    for location, rating in my_list:\n",
    "        #for every rating we will obtain a row with the recommended locations based on that rating\n",
    "        result = pd.DataFrame(get_recommended_locations(location, rating))\n",
    "        recommended_locations = pd.concat([recommended_locations, result.T])\n",
    "\n",
    "    #for every row/rating, we sum the scores obtained for each movie, which represent the percentage in which that\n",
    "    #movie should be recommended, the movie with the highest score is first\n",
    "    return recommended_locations.sum().sort_values(ascending=False)\n",
    "   "
   ]
  },
  {
   "cell_type": "code",
   "execution_count": 181,
   "id": "a0de266b",
   "metadata": {},
   "outputs": [
    {
     "data": {
      "text/plain": [
       "4    5.119749\n",
       "3    4.768198\n",
       "5    4.345419\n",
       "9    0.494618\n",
       "7   -3.258194\n",
       "6   -4.126414\n",
       "8   -5.109948\n",
       "dtype: float64"
      ]
     },
     "execution_count": 181,
     "metadata": {},
     "output_type": "execute_result"
    }
   ],
   "source": [
    "get_recommendations(1)"
   ]
  },
  {
   "cell_type": "code",
   "execution_count": null,
   "id": "68ef022d",
   "metadata": {},
   "outputs": [],
   "source": []
  },
  {
   "cell_type": "code",
   "execution_count": null,
   "id": "247c0cd5",
   "metadata": {},
   "outputs": [],
   "source": []
  }
 ],
 "metadata": {
  "kernelspec": {
   "display_name": "Python 3 (ipykernel)",
   "language": "python",
   "name": "python3"
  },
  "language_info": {
   "codemirror_mode": {
    "name": "ipython",
    "version": 3
   },
   "file_extension": ".py",
   "mimetype": "text/x-python",
   "name": "python",
   "nbconvert_exporter": "python",
   "pygments_lexer": "ipython3",
   "version": "3.9.1"
  }
 },
 "nbformat": 4,
 "nbformat_minor": 5
}
